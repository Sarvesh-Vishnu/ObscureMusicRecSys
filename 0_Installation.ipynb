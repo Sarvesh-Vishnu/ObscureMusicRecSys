{
 "cells": [
  {
   "cell_type": "code",
   "execution_count": 14,
   "id": "921f7cc2",
   "metadata": {},
   "outputs": [
    {
     "name": "stderr",
     "output_type": "stream",
     "text": [
      "ERROR: Could not find a version that satisfies the requirement base64 (from versions: none)\n",
      "ERROR: No matching distribution found for base64\n",
      "\n",
      "[notice] A new release of pip is available: 23.2.1 -> 24.2\n",
      "[notice] To update, run: python.exe -m pip install --upgrade pip\n"
     ]
    }
   ],
   "source": [
    "!pip install base64"
   ]
  },
  {
   "cell_type": "code",
   "execution_count": 5,
   "id": "49c905c7",
   "metadata": {},
   "outputs": [
    {
     "name": "stdout",
     "output_type": "stream",
     "text": [
      "Python 3.8.10\n"
     ]
    }
   ],
   "source": [
    "!python --version"
   ]
  },
  {
   "cell_type": "code",
   "execution_count": 6,
   "id": "9f9eb296",
   "metadata": {},
   "outputs": [
    {
     "name": "stdout",
     "output_type": "stream",
     "text": [
      "Name: spotipy\n",
      "Version: 2.24.0\n",
      "Summary: A light weight Python library for the Spotify Web API\n",
      "Home-page: https://spotipy.readthedocs.org/\n",
      "Author: @plamere\n",
      "Author-email: paul@echonest.com\n",
      "License: MIT\n",
      "Location: c:\\users\\sarvesh\\onedrive - duke university\\desktop\\duke_fuqua\\academics\\research_projects\\simplemusicrecommendationapp\\.venv\\lib\\site-packages\n",
      "Requires: redis, requests, urllib3\n",
      "Required-by: \n"
     ]
    }
   ],
   "source": [
    "!pip show spotipy"
   ]
  },
  {
   "cell_type": "code",
   "execution_count": 7,
   "id": "9f65972d",
   "metadata": {},
   "outputs": [
    {
     "name": "stdout",
     "output_type": "stream",
     "text": [
      "Requirement already satisfied: spotipy in c:\\users\\sarvesh\\onedrive - duke university\\desktop\\duke_fuqua\\academics\\research_projects\\simplemusicrecommendationapp\\.venv\\lib\\site-packages (2.24.0)\n",
      "Requirement already satisfied: redis>=3.5.3 in c:\\users\\sarvesh\\onedrive - duke university\\desktop\\duke_fuqua\\academics\\research_projects\\simplemusicrecommendationapp\\.venv\\lib\\site-packages (from spotipy) (5.0.8)\n",
      "Requirement already satisfied: requests>=2.25.0 in c:\\users\\sarvesh\\onedrive - duke university\\desktop\\duke_fuqua\\academics\\research_projects\\simplemusicrecommendationapp\\.venv\\lib\\site-packages (from spotipy) (2.32.3)\n",
      "Requirement already satisfied: urllib3>=1.26.0 in c:\\users\\sarvesh\\onedrive - duke university\\desktop\\duke_fuqua\\academics\\research_projects\\simplemusicrecommendationapp\\.venv\\lib\\site-packages (from spotipy) (2.2.2)\n",
      "Requirement already satisfied: async-timeout>=4.0.3 in c:\\users\\sarvesh\\onedrive - duke university\\desktop\\duke_fuqua\\academics\\research_projects\\simplemusicrecommendationapp\\.venv\\lib\\site-packages (from redis>=3.5.3->spotipy) (4.0.3)\n",
      "Requirement already satisfied: charset-normalizer<4,>=2 in c:\\users\\sarvesh\\onedrive - duke university\\desktop\\duke_fuqua\\academics\\research_projects\\simplemusicrecommendationapp\\.venv\\lib\\site-packages (from requests>=2.25.0->spotipy) (3.3.2)\n",
      "Requirement already satisfied: idna<4,>=2.5 in c:\\users\\sarvesh\\onedrive - duke university\\desktop\\duke_fuqua\\academics\\research_projects\\simplemusicrecommendationapp\\.venv\\lib\\site-packages (from requests>=2.25.0->spotipy) (3.7)\n",
      "Requirement already satisfied: certifi>=2017.4.17 in c:\\users\\sarvesh\\onedrive - duke university\\desktop\\duke_fuqua\\academics\\research_projects\\simplemusicrecommendationapp\\.venv\\lib\\site-packages (from requests>=2.25.0->spotipy) (2024.7.4)\n"
     ]
    },
    {
     "name": "stderr",
     "output_type": "stream",
     "text": [
      "\n",
      "[notice] A new release of pip is available: 23.2.1 -> 24.2\n",
      "[notice] To update, run: python.exe -m pip install --upgrade pip\n"
     ]
    }
   ],
   "source": [
    "!pip install spotipy --upgrade"
   ]
  }
 ],
 "metadata": {
  "kernelspec": {
   "display_name": "Python 3 (ipykernel)",
   "language": "python",
   "name": "python3"
  },
  "language_info": {
   "codemirror_mode": {
    "name": "ipython",
    "version": 3
   },
   "file_extension": ".py",
   "mimetype": "text/x-python",
   "name": "python",
   "nbconvert_exporter": "python",
   "pygments_lexer": "ipython3",
   "version": "3.11.5"
  }
 },
 "nbformat": 4,
 "nbformat_minor": 5
}
